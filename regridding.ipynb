{
 "cells": [
  {
   "cell_type": "code",
   "execution_count": null,
   "id": "0",
   "metadata": {},
   "outputs": [],
   "source": [
    "import distributed\n",
    "\n",
    "client = distributed.Client()\n",
    "client"
   ]
  },
  {
   "cell_type": "code",
   "execution_count": null,
   "id": "1",
   "metadata": {},
   "outputs": [],
   "source": [
    "import fsspec\n",
    "import xarray as xr\n",
    "import xdggs"
   ]
  },
  {
   "cell_type": "code",
   "execution_count": null,
   "id": "2",
   "metadata": {},
   "outputs": [],
   "source": [
    "url = \"https://osi-saf.ifremer.fr/sst/l2p/global/avhrr_metop_b/2022/131/20220511231303-OSISAF-L2P_GHRSST-SSTsubskin-AVHRR_SST_METOP_B-sstmgr_metop01_20220511_231303-v02.0-fv01.0.nc\""
   ]
  },
  {
   "cell_type": "code",
   "execution_count": null,
   "id": "3",
   "metadata": {},
   "outputs": [],
   "source": [
    "fs = fsspec.filesystem(\"http\")\n",
    "ds = xr.open_dataset(\n",
    "    fs.open(url), engine=\"h5netcdf\", chunks={}, decode_timedelta=True\n",
    ")  # .pipe(lambda ds: ds.merge(ds.cf[[\"longitude\", \"latitude\"]].compute()))\n",
    "ds"
   ]
  },
  {
   "cell_type": "code",
   "execution_count": null,
   "id": "4",
   "metadata": {},
   "outputs": [],
   "source": [
    "grid_info = xdggs.HealpixInfo(level=9, indexing_scheme=\"nested\")"
   ]
  },
  {
   "cell_type": "code",
   "execution_count": null,
   "id": "5",
   "metadata": {},
   "outputs": [],
   "source": [
    "def aggregation_regridding(grid_info, ds):\n",
    "    lon_name = ds.cf.coordinates[\"longitude\"][0]\n",
    "    lat_name = ds.cf.coordinates[\"latitude\"][0]\n",
    "\n",
    "    stack_dims = list(dict.fromkeys(list(ds[lon_name].dims) + list(ds[lat_name].dims)))\n",
    "\n",
    "    stacked = (\n",
    "        ds.stack(points=stack_dims)\n",
    "        .drop_indexes([\"points\"] + stack_dims)\n",
    "        .drop_vars(stack_dims + [\"points\"])\n",
    "    )\n",
    "    cell_ids = xr.apply_ufunc(\n",
    "        grid_info.geographic2cell_ids,\n",
    "        stacked[lon_name].astype(\"float64\"),\n",
    "        stacked[lat_name].astype(\"float64\"),\n",
    "        keep_attrs=False,\n",
    "        dask=\"parallelized\",\n",
    "    )\n",
    "\n",
    "    return (\n",
    "        stacked.assign_coords({\"cell_ids\": cell_ids})\n",
    "        .groupby(\"cell_ids\")\n",
    "        .mean()\n",
    "        .rename_dims({\"cell_ids\": \"cells\"})\n",
    "        .dggs.decode(grid_info)\n",
    "    )"
   ]
  },
  {
   "cell_type": "code",
   "execution_count": null,
   "id": "6",
   "metadata": {},
   "outputs": [],
   "source": [
    "regridded = aggregation_regridding(grid_info, ds)\n",
    "regridded"
   ]
  },
  {
   "cell_type": "code",
   "execution_count": null,
   "id": "7",
   "metadata": {},
   "outputs": [],
   "source": [
    "computed = regridded.compute()\n",
    "computed"
   ]
  },
  {
   "cell_type": "code",
   "execution_count": null,
   "id": "8",
   "metadata": {},
   "outputs": [],
   "source": [
    "computed[\"sea_surface_temperature\"].dggs.explore()"
   ]
  },
  {
   "cell_type": "code",
   "execution_count": null,
   "id": "9",
   "metadata": {},
   "outputs": [],
   "source": []
  }
 ],
 "metadata": {
  "language_info": {
   "codemirror_mode": {
    "name": "ipython",
    "version": 3
   },
   "file_extension": ".py",
   "mimetype": "text/x-python",
   "name": "python",
   "nbconvert_exporter": "python",
   "pygments_lexer": "ipython3",
   "version": "3.12.9"
  }
 },
 "nbformat": 4,
 "nbformat_minor": 5
}
