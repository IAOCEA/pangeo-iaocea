{
 "cells": [
  {
   "cell_type": "markdown",
   "id": "0",
   "metadata": {},
   "source": [
    "# regridding\n",
    "\n",
    "The regridding usually happens on the fly for satellite imagery and in-situ data, but to demonstrate how this works this notebook does this separately."
   ]
  },
  {
   "cell_type": "code",
   "execution_count": null,
   "id": "1",
   "metadata": {},
   "outputs": [],
   "source": [
    "import distributed\n",
    "\n",
    "client = distributed.Client()\n",
    "client"
   ]
  },
  {
   "cell_type": "code",
   "execution_count": null,
   "id": "2",
   "metadata": {},
   "outputs": [],
   "source": [
    "import pathlib\n",
    "import warnings\n",
    "\n",
    "import geopandas as gpd\n",
    "import pystac\n",
    "import stac_geoparquet\n",
    "import xarray as xr\n",
    "import xdggs\n",
    "from rich.progress import track\n",
    "\n",
    "from pangeo_iaocea.regridding import aggregation_regridding, categorize_points\n",
    "\n",
    "warnings.filterwarnings(\n",
    "    category=UserWarning, message=\"Consolidated metadata\", action=\"ignore\"\n",
    ")"
   ]
  },
  {
   "cell_type": "code",
   "execution_count": null,
   "id": "3",
   "metadata": {},
   "outputs": [],
   "source": [
    "cache_root = pathlib.Path.home() / \"work/data/stac/cache\"\n",
    "data_root = pathlib.Path.cwd() / \"data\""
   ]
  },
  {
   "cell_type": "markdown",
   "id": "4",
   "metadata": {},
   "source": [
    "## regrid SST imagery"
   ]
  },
  {
   "cell_type": "markdown",
   "id": "5",
   "metadata": {},
   "source": [
    "First, we need to define the target resolution:"
   ]
  },
  {
   "cell_type": "code",
   "execution_count": null,
   "id": "6",
   "metadata": {},
   "outputs": [],
   "source": [
    "grid_info = xdggs.HealpixInfo(level=11, indexing_scheme=\"nested\")"
   ]
  },
  {
   "cell_type": "markdown",
   "id": "7",
   "metadata": {},
   "source": [
    "To regrid, we can first read the stored items back into memory:"
   ]
  },
  {
   "cell_type": "code",
   "execution_count": null,
   "id": "8",
   "metadata": {},
   "outputs": [],
   "source": [
    "image_items = gpd.read_parquet(data_root / \"avhrr-sst-metop_b.parquet\").pipe(\n",
    "    stac_geoparquet.to_item_collection\n",
    ")\n",
    "image_items"
   ]
  },
  {
   "cell_type": "markdown",
   "id": "9",
   "metadata": {},
   "source": [
    "and then apply the regridding by looping over the items. For each item, we:\n",
    "- use `xpystac` to load the given asset into an `xarray` object\n",
    "- apply aggregation regridding (bin the original data into healpix cells and compute bin means)\n",
    "- write the result with uniform chunk sizes"
   ]
  },
  {
   "cell_type": "code",
   "execution_count": null,
   "id": "10",
   "metadata": {},
   "outputs": [],
   "source": [
    "regridded_root = cache_root / \"healpix/avhrr-sst-metop_b\"\n",
    "regridded_root.mkdir(parents=True, exist_ok=True)\n",
    "for item in track(image_items):\n",
    "    ds = xr.open_dataset(\n",
    "        item.assets[\"data\"], engine=\"stac\", chunks={}, decode_timedelta=True\n",
    "    )\n",
    "\n",
    "    regridded = aggregation_regridding(grid_info, ds).chunk({\"cells\": 100000})\n",
    "\n",
    "    path = regridded_root.joinpath(item.id).with_suffix(\".zarr\")\n",
    "    regridded.to_zarr(path, mode=\"w\")"
   ]
  },
  {
   "cell_type": "markdown",
   "id": "11",
   "metadata": {},
   "source": [
    "We can then open one of these and visualize the result:"
   ]
  },
  {
   "cell_type": "code",
   "execution_count": null,
   "id": "12",
   "metadata": {},
   "outputs": [],
   "source": [
    "image = xr.open_dataset(\n",
    "    regridded_root.joinpath(image_items[1].id).with_suffix(\".zarr\"),\n",
    "    engine=\"zarr\",\n",
    "    decode_timedelta=True,\n",
    "    chunks={},\n",
    ").dggs.decode()\n",
    "image"
   ]
  },
  {
   "cell_type": "code",
   "execution_count": null,
   "id": "13",
   "metadata": {},
   "outputs": [],
   "source": [
    "image[\"sea_surface_temperature\"].compute().dggs.explore()"
   ]
  },
  {
   "cell_type": "markdown",
   "id": "14",
   "metadata": {},
   "source": [
    "## transform in-situ data"
   ]
  },
  {
   "cell_type": "markdown",
   "id": "15",
   "metadata": {},
   "source": [
    "For the in-situ data, the procedure is the same:\n",
    "- open the datasets\n",
    "- define the grid\n",
    "- bin the coordinates\n",
    "\n",
    "However, there is no regridding involved."
   ]
  },
  {
   "cell_type": "code",
   "execution_count": null,
   "id": "16",
   "metadata": {},
   "outputs": [],
   "source": [
    "items = [\n",
    "    pystac.Item.from_dict(item)\n",
    "    for item in stac_geoparquet.json_reader.read_json(\n",
    "        data_root / \"insitu_global_phybgcwav_discrete_mynrt_013_030.jsonl\"\n",
    "    )\n",
    "]"
   ]
  },
  {
   "cell_type": "markdown",
   "id": "17",
   "metadata": {},
   "source": [
    "We'll use a higher-resolution grid to accomodate the point / trajectory data:"
   ]
  },
  {
   "cell_type": "code",
   "execution_count": null,
   "id": "18",
   "metadata": {},
   "outputs": [],
   "source": [
    "grid_info = xdggs.HealpixInfo(level=13, indexing_scheme=\"nested\")"
   ]
  },
  {
   "cell_type": "markdown",
   "id": "19",
   "metadata": {},
   "source": [
    "With that, we can derive cell ids from the geographic coordinates provided by the dataset:"
   ]
  },
  {
   "cell_type": "code",
   "execution_count": null,
   "id": "20",
   "metadata": {},
   "outputs": [],
   "source": [
    "regridded = []\n",
    "for item in track(items[:3]):\n",
    "    ds = xr.open_dataset(item.assets[\"public\"], engine=\"stac\", chunks={}).compute()\n",
    "    regridded.append(\n",
    "        ds.assign_coords(\n",
    "            {\"cell_ids\": categorize_points(grid_info, ds[\"LONGITUDE\"], ds[\"LATITUDE\"])}\n",
    "        )\n",
    "    )"
   ]
  },
  {
   "cell_type": "markdown",
   "id": "21",
   "metadata": {},
   "source": [
    "The datasets are small enough to stay in memory, so we can immediately visualize the result:"
   ]
  },
  {
   "cell_type": "code",
   "execution_count": null,
   "id": "22",
   "metadata": {},
   "outputs": [],
   "source": [
    "regridded[2].dggs.decode(grid_info).get(\"TEMP\").dggs.explore()"
   ]
  },
  {
   "cell_type": "code",
   "execution_count": null,
   "id": "23",
   "metadata": {},
   "outputs": [],
   "source": []
  }
 ],
 "metadata": {
  "language_info": {
   "codemirror_mode": {
    "name": "ipython",
    "version": 3
   },
   "file_extension": ".py",
   "mimetype": "text/x-python",
   "name": "python",
   "nbconvert_exporter": "python",
   "pygments_lexer": "ipython3",
   "version": "3.12.9"
  }
 },
 "nbformat": 4,
 "nbformat_minor": 5
}
