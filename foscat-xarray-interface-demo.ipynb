{
 "cells": [
  {
   "cell_type": "markdown",
   "id": "0",
   "metadata": {},
   "source": [
    "# demo of the xarray interface to foscat"
   ]
  },
  {
   "cell_type": "markdown",
   "id": "1",
   "metadata": {},
   "source": [
    "## set up example data"
   ]
  },
  {
   "cell_type": "code",
   "execution_count": null,
   "id": "2",
   "metadata": {},
   "outputs": [],
   "source": [
    "import numpy as np\n",
    "import xarray as xr"
   ]
  },
  {
   "cell_type": "code",
   "execution_count": null,
   "id": "3",
   "metadata": {},
   "outputs": [],
   "source": [
    "ds = (\n",
    "    xr.open_dataset(\n",
    "        \"data/healpix/avhrr-sst-metop_b/0E0FEB4C-D050-11EC-ACC4-48DF3747D358.zarr\",\n",
    "        engine=\"zarr\",\n",
    "        chunks={},\n",
    "        decode_timedelta=True,\n",
    "    )\n",
    "    .compute()\n",
    "    .dggs.decode()\n",
    ")\n",
    "ds"
   ]
  },
  {
   "cell_type": "code",
   "execution_count": null,
   "id": "4",
   "metadata": {},
   "outputs": [],
   "source": [
    "arr = (\n",
    "    ds[\"sea_surface_temperature\"].where(lambda arr: arr.notnull(), drop=True).squeeze()\n",
    ")\n",
    "arr"
   ]
  },
  {
   "cell_type": "markdown",
   "id": "5",
   "metadata": {},
   "source": [
    "## compute reference statistics"
   ]
  },
  {
   "cell_type": "code",
   "execution_count": null,
   "id": "6",
   "metadata": {},
   "outputs": [],
   "source": [
    "import foscat.xarray as foscat"
   ]
  },
  {
   "cell_type": "code",
   "execution_count": null,
   "id": "7",
   "metadata": {},
   "outputs": [],
   "source": [
    "params = foscat.Parameters(\n",
    "    n_orientations=4, kernel_size=5, jmax_delta=0, dtype=\"float32\", backend=\"torch\"\n",
    ")"
   ]
  },
  {
   "cell_type": "code",
   "execution_count": null,
   "id": "8",
   "metadata": {},
   "outputs": [],
   "source": [
    "%%time\n",
    "stats = foscat.reference_statistics(\n",
    "    arr - arr.median(), parameters=params, variances=True\n",
    ")\n",
    "stats.attrs[\"foscat_backend\"] = params.cache.backend\n",
    "stats"
   ]
  },
  {
   "cell_type": "code",
   "execution_count": null,
   "id": "9",
   "metadata": {},
   "outputs": [],
   "source": [
    "stats.foscat.plot()"
   ]
  },
  {
   "cell_type": "markdown",
   "id": "10",
   "metadata": {},
   "source": [
    "## compute cross statistics"
   ]
  },
  {
   "cell_type": "code",
   "execution_count": null,
   "id": "11",
   "metadata": {},
   "outputs": [],
   "source": [
    "rng = np.random.default_rng()\n",
    "n_timesteps = 5\n",
    "noise = xr.DataArray(\n",
    "    rng.normal(scale=0.1, size=(n_timesteps, arr.sizes[\"cells\"])),\n",
    "    dims=[\"time\", \"cells\"],\n",
    "    coords={\n",
    "        \"cell_ids\": arr[\"cell_ids\"],\n",
    "        \"time\": xr.date_range(arr[\"time\"].item(), freq=\"3min\", periods=n_timesteps),\n",
    "    },\n",
    ")\n",
    "arr2 = arr.squeeze() + noise\n",
    "arr2"
   ]
  },
  {
   "cell_type": "code",
   "execution_count": null,
   "id": "12",
   "metadata": {},
   "outputs": [],
   "source": [
    "%%time\n",
    "stats = foscat.cross_statistics(\n",
    "    arr - arr.median(dim=\"cells\"),\n",
    "    arr2 - arr2.median(dim=\"cells\"),\n",
    "    parameters=params,\n",
    "    variances=True,\n",
    ")\n",
    "stats.attrs[\"foscat_backend\"] = params.cache.backend\n",
    "stats"
   ]
  },
  {
   "cell_type": "code",
   "execution_count": null,
   "id": "13",
   "metadata": {},
   "outputs": [],
   "source": [
    "stats.foscat.plot()"
   ]
  }
 ],
 "metadata": {
  "language_info": {
   "codemirror_mode": {
    "name": "ipython",
    "version": 3
   },
   "file_extension": ".py",
   "mimetype": "text/x-python",
   "name": "python",
   "nbconvert_exporter": "python",
   "pygments_lexer": "ipython3",
   "version": "3.12.9"
  }
 },
 "nbformat": 4,
 "nbformat_minor": 5
}
