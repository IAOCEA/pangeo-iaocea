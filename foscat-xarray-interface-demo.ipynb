{
 "cells": [
  {
   "cell_type": "markdown",
   "id": "0",
   "metadata": {},
   "source": [
    "# demo of the xarray interface to foscat"
   ]
  },
  {
   "cell_type": "markdown",
   "id": "1",
   "metadata": {},
   "source": [
    "## set up example data"
   ]
  },
  {
   "cell_type": "code",
   "execution_count": null,
   "id": "2",
   "metadata": {},
   "outputs": [],
   "source": [
    "import healpy as hp\n",
    "import numpy as np\n",
    "import xarray as xr"
   ]
  },
  {
   "cell_type": "code",
   "execution_count": null,
   "id": "3",
   "metadata": {},
   "outputs": [],
   "source": [
    "nside = 64"
   ]
  },
  {
   "cell_type": "raw",
   "id": "4",
   "metadata": {},
   "source": [
    "!wget -O target_map_lss.npy https://github.com/astro-informatics/s2scat/raw/main/notebooks/data/target_map_lss.npy"
   ]
  },
  {
   "cell_type": "code",
   "execution_count": null,
   "id": "5",
   "metadata": {},
   "outputs": [],
   "source": [
    "from scipy.interpolate import RegularGridInterpolator\n",
    "\n",
    "# convert the input data in a nside=128 healpix map\n",
    "l_nside = 128\n",
    "\n",
    "im = np.load(\"target_map_lss.npy\")\n",
    "xsize, ysize = im.shape\n",
    "\n",
    "# Define the new row and column to be added to prepare the interpolation\n",
    "new_row = im[0:1, :]  # A new row with N elements (the other longitude)\n",
    "new_column = np.concatenate(\n",
    "    [im[:, 0:1], im[-2:-1, 0:1]], 0\n",
    ")  # A new column with N+1 elements to add previous latitude\n",
    "\n",
    "# Add the new row to the array\n",
    "im = np.vstack([im, new_row])\n",
    "\n",
    "# Add the new column to the array with the new row\n",
    "\n",
    "im = np.hstack([im, new_column])\n",
    "\n",
    "# Create a grid of coordinates corresponding to the array indices\n",
    "x = np.linspace(0, im.shape[0] - 1, im.shape[0])\n",
    "y = np.linspace(0, im.shape[1] - 1, im.shape[1])\n",
    "\n",
    "# Create an interpolator\n",
    "interpolator = RegularGridInterpolator((x, y), im)\n",
    "\n",
    "# List of healpix coordinate to interpol\n",
    "colatitude, longitude = hp.pix2ang(l_nside, np.arange(12 * l_nside**2), nest=True)\n",
    "coords = (\n",
    "    np.concatenate([colatitude / np.pi * xsize, longitude / (2 * np.pi) * ysize], 0)\n",
    "    .reshape(2, colatitude.shape[0])\n",
    "    .T\n",
    ")\n",
    "\n",
    "# Perform the interpolation\n",
    "heal_im = interpolator(coords)\n",
    "\n",
    "# reduce the final map to the expected resolution\n",
    "if nside > 128:\n",
    "    th, ph = hp.pix2ang(nside, np.arange(12 * nside**2), nest=True)\n",
    "    heal_im = hp.get_interp_val(heal_im, th, ph, nest=True)\n",
    "else:\n",
    "    heal_im = np.mean(heal_im.reshape(12 * nside**2, (l_nside // nside) ** 2), 1)\n",
    "hp.mollview(heal_im, cmap=\"plasma\", nest=True, title=\"LSS\", min=-3, max=3)\n",
    "\n",
    "# free memory\n",
    "del coords\n",
    "del interpolator\n",
    "del colatitude\n",
    "del longitude"
   ]
  },
  {
   "cell_type": "code",
   "execution_count": null,
   "id": "6",
   "metadata": {},
   "outputs": [],
   "source": [
    "target_lss = xr.Dataset(\n",
    "    {\"lss\": (\"cells\", heal_im)}, coords={\"cell_ids\": (\"cells\", np.arange(heal_im.size))}\n",
    ")\n",
    "target_lss"
   ]
  },
  {
   "cell_type": "code",
   "execution_count": null,
   "id": "7",
   "metadata": {},
   "outputs": [],
   "source": [
    "rng = np.random.default_rng()"
   ]
  },
  {
   "cell_type": "code",
   "execution_count": null,
   "id": "8",
   "metadata": {},
   "outputs": [],
   "source": [
    "n_timesteps = 5\n",
    "random_noise = xr.DataArray(\n",
    "    rng.normal(scale=0.1, size=(n_timesteps, target_lss.sizes[\"cells\"])),\n",
    "    dims=[\"time\", \"cells\"],\n",
    "    coords={\n",
    "        \"cell_ids\": (\"cells\", np.arange(heal_im.size)),\n",
    "        \"time\": xr.date_range(\"2020-01-01\", freq=\"MS\", periods=n_timesteps),\n",
    "    },\n",
    ")\n",
    "random_noise"
   ]
  },
  {
   "cell_type": "code",
   "execution_count": null,
   "id": "9",
   "metadata": {},
   "outputs": [],
   "source": [
    "target_lss2 = target_lss + random_noise\n",
    "target_lss2"
   ]
  },
  {
   "cell_type": "markdown",
   "id": "10",
   "metadata": {},
   "source": [
    "## compute reference statistics"
   ]
  },
  {
   "cell_type": "code",
   "execution_count": null,
   "id": "11",
   "metadata": {},
   "outputs": [],
   "source": [
    "import foscat.xarray as foscat"
   ]
  },
  {
   "cell_type": "code",
   "execution_count": null,
   "id": "12",
   "metadata": {},
   "outputs": [],
   "source": [
    "params = foscat.Parameters(\n",
    "    n_orientations=4, kernel_size=5, jmax_delta=0, dtype=\"float64\", backend=\"numpy\"\n",
    ")"
   ]
  },
  {
   "cell_type": "code",
   "execution_count": null,
   "id": "13",
   "metadata": {},
   "outputs": [],
   "source": [
    "stats = foscat.reference_statistics(\n",
    "    target_lss[\"lss\"], parameters=params, variances=True\n",
    ")\n",
    "stats"
   ]
  },
  {
   "cell_type": "code",
   "execution_count": null,
   "id": "14",
   "metadata": {},
   "outputs": [],
   "source": [
    "stats.foscat.plot()"
   ]
  },
  {
   "cell_type": "markdown",
   "id": "15",
   "metadata": {},
   "source": [
    "## compute cross statistics"
   ]
  },
  {
   "cell_type": "code",
   "execution_count": null,
   "id": "16",
   "metadata": {},
   "outputs": [],
   "source": [
    "stats = foscat.cross_statistics(\n",
    "    target_lss[\"lss\"], target_lss2[\"lss\"], parameters=params, variances=True\n",
    ")\n",
    "stats"
   ]
  },
  {
   "cell_type": "code",
   "execution_count": null,
   "id": "17",
   "metadata": {},
   "outputs": [],
   "source": [
    "stats.foscat.plot()"
   ]
  }
 ],
 "metadata": {
  "language_info": {
   "codemirror_mode": {
    "name": "ipython",
    "version": 3
   },
   "file_extension": ".py",
   "mimetype": "text/x-python",
   "name": "python",
   "nbconvert_exporter": "python",
   "pygments_lexer": "ipython3",
   "version": "3.12.9"
  }
 },
 "nbformat": 4,
 "nbformat_minor": 5
}
